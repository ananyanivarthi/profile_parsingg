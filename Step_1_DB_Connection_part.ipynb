{
  "cells": [
    {
      "cell_type": "markdown",
      "source": [
        "# Step 1: Connecting to MySQL DB & fetching the needed details."
      ],
      "metadata": {
        "id": "_V6ZxDiM33r1"
      }
    },
    {
      "cell_type": "code",
      "source": [
        "# pip install mysql-connector-python pdfminer.six python-docx"
      ],
      "metadata": {
        "id": "618nOkLmUXQH"
      },
      "execution_count": 1,
      "outputs": []
    },
    {
      "cell_type": "code",
      "source": [
        "import os\n",
        "import mysql.connector\n",
        "from mysql.connector import Error\n",
        "from pdfminer.high_level import extract_text as pdf_extract_text\n",
        "from docx import Document\n",
        "from io import BytesIO\n",
        "\n",
        "# def parse_pdf(file_content):\n",
        "#     \"\"\"Extract text from PDF file content.\"\"\"\n",
        "#     with BytesIO(file_content) as pdf_file:\n",
        "#         text = pdf_extract_text(pdf_file)\n",
        "#     return text\n",
        "\n",
        "# def parse_docx(file_content):\n",
        "#     \"\"\"Extract text from DOCX file content.\"\"\"\n",
        "#     with BytesIO(file_content) as docx_file:\n",
        "#         doc = Document(docx_file)\n",
        "#         text = '\\n'.join([paragraph.text for paragraph in doc.paragraphs])\n",
        "#     return text\n",
        "\n",
        "def fetch_candidate_profiles_and_resume():\n",
        "    try:\n",
        "\n",
        "      connection = None\n",
        "\n",
        "      connection = mysql.connector.connect(\n",
        "          host='ns1.md-in-74.hostgatorwebservers.com',      # e.g., 'your_hostgator_domain.com' or 'your_ip_address'\n",
        "          user='webmom8h_surya',            # e.g., 'your_database_username'\n",
        "          password='S1995@db',        # e.g., 'your_database_password'\n",
        "          database='webmom8h_AI_Talent_Quest',   # e.g., 'your_database'\n",
        "          # port=3306,                        # Default MySQL port, can be omitted if using the default\n",
        "          # collation='utf8_unicode_ci'\n",
        "        )\n",
        "\n",
        "      if connection.is_connected():\n",
        "          print(\"Successfully connected to the database\")\n",
        "\n",
        "          cursor = connection.cursor(dictionary=True)\n",
        "\n",
        "          query = \"\"\"\n",
        "            SELECT candidate_id, job_title, skills, experience\n",
        "            FROM candidate_profile\n",
        "            \"\"\"\n",
        "\n",
        "          cursor.execute(query)\n",
        "\n",
        "\n",
        "          profiles = cursor.fetchall()\n",
        "\n",
        "\n",
        "          for profile in profiles:\n",
        "              print(f\"Candidate ID: {profile['candidate_id']}\")\n",
        "            # print(f\"First Name: {profile['first_name']}\")\n",
        "            # print(f\"Last Name: {profile['last_name']}\")\n",
        "            # print(f\"Email: {profile['email']}\")\n",
        "              print(f\"job title: {profile['job_title']}\")\n",
        "              print(f\"Skills: {profile['skills']}\")\n",
        "              print(f\"Experience: {profile['experience']}\")\n",
        "              print(\"-\" * 40)\n",
        "\n",
        "              # Get the resume file content and type\n",
        "              # resume_file_content = profile['resume_file']\n",
        "              # resume_file_type = profile['resume_type']  # Assume resume_type contains 'pdf' or 'docx'\n",
        "\n",
        "              # if resume_file_content:\n",
        "              #     # Parse the resume based on its type\n",
        "              #     if resume_file_type == 'pdf':\n",
        "              #         text = parse_pdf(resume_file_content)\n",
        "              #     elif resume_file_type == 'docx':\n",
        "              #         text = parse_docx(resume_file_content)\n",
        "              #     else:\n",
        "              #         text = \"Unsupported file format.\"\n",
        "\n",
        "              #     # Print or process the extracted text\n",
        "              #     print(\"\\nExtracted Text from Resume:\")\n",
        "              #     print(text)\n",
        "              # else:\n",
        "              #     print(\"No resume file available.\")\n",
        "\n",
        "              # print(\"-\" * 40)\n",
        "\n",
        "    except Error as e:\n",
        "        print(f\"Error: {e}\")\n",
        "\n",
        "    finally:\n",
        "        # Close the connection\n",
        "        if connection.is_connected():\n",
        "            cursor.close()\n",
        "            connection.close()\n",
        "            print(\"Database connection closed\")\n",
        "\n",
        "if __name__ == \"__main__\":\n",
        "  fetch_candidate_profiles_and_resume()"
      ],
      "metadata": {
        "id": "HOrm5IdjfX0l",
        "colab": {
          "base_uri": "https://localhost:8080/"
        },
        "outputId": "efc69efc-f398-4df2-afca-cb5d182e18cc"
      },
      "execution_count": 17,
      "outputs": [
        {
          "output_type": "stream",
          "name": "stdout",
          "text": [
            "Successfully connected to the database\n",
            "Candidate ID: 1\n",
            "job title: Ananya\n",
            "Skills: machine learning, data science, python, deep learning, tensorflow\n",
            "Experience: 2\n",
            "----------------------------------------\n",
            "Database connection closed\n"
          ]
        }
      ]
    },
    {
      "cell_type": "code",
      "source": [],
      "metadata": {
        "id": "t359m5aU4zJB"
      },
      "execution_count": null,
      "outputs": []
    }
  ],
  "metadata": {
    "colab": {
      "provenance": []
    },
    "kernelspec": {
      "display_name": "Python 3",
      "name": "python3"
    },
    "language_info": {
      "name": "python"
    }
  },
  "nbformat": 4,
  "nbformat_minor": 0
}